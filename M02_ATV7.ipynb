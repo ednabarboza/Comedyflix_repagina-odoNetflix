{
  "nbformat": 4,
  "nbformat_minor": 0,
  "metadata": {
    "colab": {
      "name": "M02- ATV7",
      "provenance": [],
      "authorship_tag": "ABX9TyOqqDxN24EYoAj6cu8Hee+u",
      "include_colab_link": true
    },
    "kernelspec": {
      "name": "python3",
      "display_name": "Python 3"
    },
    "language_info": {
      "name": "python"
    }
  },
  "cells": [
    {
      "cell_type": "markdown",
      "metadata": {
        "id": "view-in-github",
        "colab_type": "text"
      },
      "source": [
        "<a href=\"https://colab.research.google.com/github/ednabarboza/Comedyflix_repagina-odoNetflix/blob/main/M02_ATV7.ipynb\" target=\"_parent\"><img src=\"https://colab.research.google.com/assets/colab-badge.svg\" alt=\"Open In Colab\"/></a>"
      ]
    },
    {
      "cell_type": "code",
      "execution_count": 14,
      "metadata": {
        "colab": {
          "base_uri": "https://localhost:8080/"
        },
        "id": "43O3UYNBXmlx",
        "outputId": "c680f6ee-b3e5-4f98-d3fb-e2fdde0a7a21"
      },
      "outputs": [
        {
          "output_type": "stream",
          "name": "stdout",
          "text": [
            "     aluno  nota_1  nota_2  faltas  media   situacao\n",
            "0  aluno_1       7       7       1    7.0   aprovado\n",
            "1  aluno_2       3      10       7    6.5  reprovado\n",
            "2  aluno_3       9       4       2    6.5  reprovado\n",
            "3  aluno_4      10       6       9    8.0  reprovado\n",
            "Maior número de faltas: 9\n",
            "Média geral: 6.75\n",
            "Maior média: 8.0\n"
          ]
        }
      ],
      "source": [
        "import pandas as pd\n",
        "df = pd.read_csv('/content/notas_alunos.csv',sep=';')\n",
        "df[\"media\"] = (df[\"nota_1\"]+ df[\"nota_2\"])/2\n",
        "df.loc[df[\"media\"]>=7, \"situacao\"] = \"aprovado\"\n",
        "df.loc[df[\"media\"]<7, \"situacao\"] = \"reprovado\"\n",
        "df.loc[df[\"faltas\"]>5, \"situacao\"] = \"reprovado\"\n",
        "alunos_situacao=df\n",
        "maior_n_faltas = df[\"faltas\"].max()\n",
        "media_geral = df[\"media\"].median()\n",
        "maior_media = df[\"media\"].max()\n",
        "print(df)\n",
        "print(\"Maior número de faltas: \" +str(maior_n_faltas))\n",
        "print(\"Média geral: \" +str(media_geral))\n",
        "print(\"Maior média: \" +str(maior_media))\n"
      ]
    }
  ]
}